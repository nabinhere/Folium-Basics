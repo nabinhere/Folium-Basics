{
 "cells": [
  {
   "cell_type": "code",
   "execution_count": 1,
   "id": "62d37278",
   "metadata": {},
   "outputs": [
    {
     "data": {
      "image/png": "[encoded data removed]",
      "text/plain": [
       "<Figure size 432x288 with 1 Axes>"
      ]
     },
     "metadata": {
      "needs_background": "light"
     },
     "output_type": "display_data"
    }
   ],
   "source": [
    "import folium\n",
    "import matplotlib.pyplot as plt\n",
    "import pandas as pd\n",
    "\n",
    "# Create a sample dataframe with location data (latitude and longitude)\n",
    "data = {\n",
    "    'City': ['Tokyo', 'New York', 'London'],\n",
    "    'Latitude': [35.682839, 40.712776, 51.507351],\n",
    "    'Longitude': [139.759455, -74.005974, -0.127758]\n",
    "}\n",
    "df = pd.DataFrame(data)\n",
    "\n",
    "# Create a Folium map centered around Tokyo\n",
    "tokyo_map = folium.Map(location=[35.682839, 139.759455], zoom_start=10)\n",
    "\n",
    "# Add markers for each city\n",
    "for index, row in df.iterrows():\n",
    "    folium.Marker(\n",
    "        location=[row['Latitude'], row['Longitude']],\n",
    "        popup=row['City']\n",
    "    ).add_to(tokyo_map)\n",
    "\n",
    "# Create a simple Matplotlib bar plot\n",
    "categories = ['A', 'B', 'C']\n",
    "values = [10, 20, 15]\n",
    "plt.bar(categories, values)\n",
    "plt.xlabel('Categories')\n",
    "plt.ylabel('Values')\n",
    "plt.title('Sample Bar Plot')\n",
    "\n",
    "# Save the Matplotlib plot to an image file (e.g., PNG)\n",
    "plt.savefig('bar_plot.png')\n",
    "\n",
    "# Add the Matplotlib plot as an overlay on the Folium map\n",
    "folium.raster_layers.ImageOverlay(\n",
    "    image='bar_plot.png',\n",
    "    bounds=[[35.5, 139.5], [36, 140]],  # Adjust bounds as needed\n",
    "    opacity=0.6\n",
    ").add_to(tokyo_map)\n",
    "\n",
    "# Save the final map as an HTML file\n",
    "tokyo_map.save('folium_with_overlay.html')\n"
   ]
  },
  {
   "cell_type": "code",
   "execution_count": null,
   "id": "08de83ec",
   "metadata": {},
   "outputs": [],
   "source": []
  }
 ],
 "metadata": {
  "kernelspec": {
   "display_name": "Python 3 (ipykernel)",
   "language": "python",
   "name": "python3"
  },
  "language_info": {
   "codemirror_mode": {
    "name": "ipython",
    "version": 3
   },
   "file_extension": ".py",
   "mimetype": "text/x-python",
   "name": "python",
   "nbconvert_exporter": "python",
   "pygments_lexer": "ipython3",
   "version": "3.9.5"
  }
 },
 "nbformat": 4,
 "nbformat_minor": 5
}
